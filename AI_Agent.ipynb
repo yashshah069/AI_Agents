{
 "cells": [
  {
   "cell_type": "code",
   "execution_count": 4,
   "id": "c9872d97",
   "metadata": {},
   "outputs": [],
   "source": [
    "from openai import OpenAI\n",
    "from secret_key import openapi_key\n",
    "client = OpenAI(api_key = openapi_key)"
   ]
  },
  {
   "cell_type": "code",
   "execution_count": 2,
   "id": "2ec23458",
   "metadata": {},
   "outputs": [],
   "source": [
    "import pandas as pd\n",
    "df = pd.read_csv('train_u6lujuX_CVtuZ9i (1).csv')"
   ]
  },
  {
   "cell_type": "code",
   "execution_count": 3,
   "id": "4285af71",
   "metadata": {},
   "outputs": [],
   "source": [
    "def create_data_summary(df):\n",
    "    summary = f'The dataset has {df.shape[0]}'\n",
    "    summary += 'Columns: \\n'\n",
    "    for  col in df.columns:\n",
    "        summary += f\"- {col} (type: {df[col].dtype})\\n\"\n",
    "    return summary"
   ]
  },
  {
   "cell_type": "code",
   "execution_count": 4,
   "id": "f26ee0db",
   "metadata": {},
   "outputs": [],
   "source": [
    "def ai_agent(user_query, df):\n",
    "    data_context = create_data_summary(df)\n",
    "    prompt = f\"\"\"You are a data expert AI agent.\n",
    "\n",
    "    You have been provided with this dataset summary:{data_context}\n",
    "    Now, based on the user's question:\n",
    "    '{user_query}'\n",
    "\n",
    "    Think step-by-step. Assume you can access and analyze the dataset like a Data Scientist would using Pandas.\n",
    "    Give a clear, final answer.\n",
    "    \"\"\"\n",
    "\n",
    "    response = client.chat.completions.create(\n",
    "        model = 'gpt-4o',\n",
    "        messages = [{'role':'user' , \"content\":prompt}],\n",
    "        temperature = 0.2,\n",
    "        max_tokens = 500\n",
    "    )\n",
    "\n",
    "    answer = response.choices[0].message.content\n",
    "    return answer\n"
   ]
  },
  {
   "cell_type": "code",
   "execution_count": null,
   "id": "643cb5e9",
   "metadata": {},
   "outputs": [
    {
     "name": "stdout",
     "output_type": "stream",
     "text": [
      "Welcome to the Loan Review AI Agent!\n",
      "You can ask anything about the loan applicants data.\n",
      "Type 'exit' to quit.\n",
      "\n",
      " AI Agent Response\n",
      "To analyze the dataset effectively, let's break down the process into several steps:\n",
      "\n",
      "1. **Understand the Dataset Structure:**\n",
      "   - The dataset consists of 614 entries and 13 columns.\n",
      "   - The columns include a mix of categorical (object type) and numerical (int64 and float64 types) data.\n",
      "\n",
      "2. **Check for Missing Values:**\n",
      "   - Identify any columns with missing values, as these may need to be addressed before analysis.\n",
      "   - Use `df.isnull().sum()` to find the count of missing values in each column.\n",
      "\n",
      "3. **Descriptive Statistics:**\n",
      "   - For numerical columns (`ApplicantIncome`, `CoapplicantIncome`, `LoanAmount`, `Loan_Amount_Term`, `Credit_History`), calculate descriptive statistics such as mean, median, standard deviation, min, and max using `df.describe()`.\n",
      "   - For categorical columns, use `df['column_name'].value_counts()` to understand the distribution of categories.\n",
      "\n",
      "4. **Data Distribution:**\n",
      "   - Visualize the distribution of numerical data using histograms or box plots to identify any skewness or outliers.\n",
      "   - Use bar plots for categorical data to see the frequency of each category.\n",
      "\n",
      "5. **Correlation Analysis:**\n",
      "   - Compute the correlation matrix for numerical features using `df.corr()` to identify any strong relationships between variables.\n",
      "   - Pay special attention to the correlation of features with `Loan_Status`, as this is likely the target variable.\n",
      "\n",
      "6. **Explore Relationships:**\n",
      "   - Use scatter plots to explore relationships between key variables, such as `ApplicantIncome` vs. `LoanAmount`.\n",
      "   - Analyze how categorical variables like `Gender`, `Married`, `Education`, and `Property_Area` relate to `Loan_Status`.\n",
      "\n",
      "7. **Handling Missing Values:**\n",
      "   - Decide on a strategy to handle missing values, such as imputation or removal, based on the extent and nature of the missing data.\n",
      "\n",
      "8. **Feature Engineering:**\n",
      "   - Consider creating new features that might be useful, such as total income (`ApplicantIncome` + `CoapplicantIncome`) or income-to-loan ratio.\n",
      "\n",
      "9. **Insights and Conclusions:**\n",
      "   - Summarize key insights, such as which factors most influence loan approval (`Loan_Status`).\n",
      "   - Identify any potential biases or trends in the data, such as differences in loan approval rates by `Gender` or `Property_Area`.\n",
      "\n",
      "By following these steps, you can gain\n"
     ]
    }
   ],
   "source": [
    "print(\"Welcome to the Loan Review AI Agent!\")\n",
    "print(\"You can ask anything about the loan applicants data.\")\n",
    "print(\"Type 'exit' to quit.\")\n",
    "while True:\n",
    "    user_input = input('\\nYour question: ')\n",
    "    if user_input.lower() == \"exit.\":\n",
    "        break\n",
    "    response = ai_agent(user_input, df)\n",
    "    print(\"\\n AI Agent Response\")\n",
    "    print(response)"
   ]
  },
  {
   "cell_type": "code",
   "execution_count": null,
   "id": "2c235a24",
   "metadata": {},
   "outputs": [],
   "source": []
  },
  {
   "cell_type": "code",
   "execution_count": null,
   "id": "6d7f2ecc",
   "metadata": {},
   "outputs": [],
   "source": []
  },
  {
   "cell_type": "code",
   "execution_count": null,
   "id": "80670cda",
   "metadata": {},
   "outputs": [],
   "source": []
  },
  {
   "cell_type": "code",
   "execution_count": null,
   "id": "cf30889b",
   "metadata": {},
   "outputs": [],
   "source": []
  }
 ],
 "metadata": {
  "kernelspec": {
   "display_name": "Python 3",
   "language": "python",
   "name": "python3"
  },
  "language_info": {
   "codemirror_mode": {
    "name": "ipython",
    "version": 3
   },
   "file_extension": ".py",
   "mimetype": "text/x-python",
   "name": "python",
   "nbconvert_exporter": "python",
   "pygments_lexer": "ipython3",
   "version": "3.12.5"
  }
 },
 "nbformat": 4,
 "nbformat_minor": 5
}
